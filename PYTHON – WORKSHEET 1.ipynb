{
 "cells": [
  {
   "cell_type": "markdown",
   "id": "51961868",
   "metadata": {},
   "source": [
    "# PYTHON – WORKSHEET 1 SOLUTION Q 11 - Q 15"
   ]
  },
  {
   "cell_type": "markdown",
   "id": "963afcfc",
   "metadata": {},
   "source": [
    "# 11. Write a python program to find the factorial of a number."
   ]
  },
  {
   "cell_type": "code",
   "execution_count": 1,
   "id": "c2590f8c",
   "metadata": {},
   "outputs": [
    {
     "name": "stdout",
     "output_type": "stream",
     "text": [
      "Enter a number: 5\n",
      "Factorial of 5 is: 120\n"
     ]
    }
   ],
   "source": [
    "num = int(input('Enter a number: ' ))\n",
    "\n",
    "factorial=1\n",
    "\n",
    "#To check if the number is negitive,positive or zero\n",
    "if num < 0:\n",
    "    print('Factorial cannot be found for negitive numbers')\n",
    "elif num == 0:\n",
    "    print('Factorial of 0 is 1')\n",
    "else: \n",
    "    for i in range(1,num+1):\n",
    "        factorial = factorial*i\n",
    "    print('Factorial of',num,'is:',factorial) \n",
    "    "
   ]
  },
  {
   "cell_type": "markdown",
   "id": "affc6b73",
   "metadata": {},
   "source": [
    "# 12.Write a python program to find whether a number is prime or composite."
   ]
  },
  {
   "cell_type": "code",
   "execution_count": 2,
   "id": "fae9dbb6",
   "metadata": {},
   "outputs": [
    {
     "name": "stdout",
     "output_type": "stream",
     "text": [
      "Enter a number: 8\n",
      "8 is a composite number\n"
     ]
    }
   ],
   "source": [
    "num = int(input('Enter a number: ' ))\n",
    "#To check if the number is negitive,positive or zero\n",
    "if num < 1:\n",
    "    print('Number needs to be greater than 1')\n",
    "elif num == 1:\n",
    "    print(num, 'is nither prime number nor composite number')\n",
    "else:\n",
    "    for i in range(2,(num//2)+1):\n",
    "        if(num % i)==0:\n",
    "            print(num, 'is a composite number')\n",
    "            break\n",
    "    else:\n",
    "        print(num, 'is a prime number')"
   ]
  },
  {
   "cell_type": "markdown",
   "id": "70365ec1",
   "metadata": {},
   "source": [
    "# 13. Write a python program to check whether a given string is palindrome or not."
   ]
  },
  {
   "cell_type": "code",
   "execution_count": 6,
   "id": "debc84d9",
   "metadata": {},
   "outputs": [
    {
     "name": "stdout",
     "output_type": "stream",
     "text": [
      "Enter a word:madam\n",
      "madam : is a palindrome.\n"
     ]
    }
   ],
   "source": [
    "a = input('Enter a word:' )\n",
    "b = a[-1::-1] \n",
    "if(a == b):\n",
    "    print(a, ': is a palindrome.')\n",
    "else:\n",
    "    print(a, ': not a palindrome.')"
   ]
  },
  {
   "cell_type": "markdown",
   "id": "ed5120f7",
   "metadata": {},
   "source": [
    "# 14. Write a Python program to get the third side of right-angled triangle from two given sides"
   ]
  },
  {
   "cell_type": "code",
   "execution_count": 7,
   "id": "55409185",
   "metadata": {},
   "outputs": [
    {
     "name": "stdout",
     "output_type": "stream",
     "text": [
      "enter the base of the right angled triangle 5\n",
      "enter the perpendicular of the right angled triangle 4\n",
      "the length of hypotenuse is  6.4031242374328485\n"
     ]
    }
   ],
   "source": [
    "import math\n",
    "a=int(input(\"enter the base of the right angled triangle \"))\n",
    "b=int(input(\"enter the perpendicular of the right angled triangle \"))\n",
    "print(\"the length of hypotenuse is \",math.sqrt(a**2+b**2))"
   ]
  },
  {
   "cell_type": "markdown",
   "id": "0cf27c97",
   "metadata": {},
   "source": [
    "# 15. Write a python program to print the frequency of each of the characters present in a given string"
   ]
  },
  {
   "cell_type": "code",
   "execution_count": 9,
   "id": "5d914455",
   "metadata": {},
   "outputs": [
    {
     "name": "stdout",
     "output_type": "stream",
     "text": [
      "Enter the string: FLIP ROBO\n",
      "Frequency of each character: {'F': 1, 'L': 1, 'I': 1, 'P': 1, ' ': 1, 'R': 1, 'O': 2, 'B': 1}\n"
     ]
    }
   ],
   "source": [
    "str1 = input (\"Enter the string: \")\n",
    "\n",
    "d = dict()\n",
    "\n",
    "for c in str1:\n",
    "    \n",
    "    if c in d:\n",
    "        \n",
    "        d[c] = d[c] + 1\n",
    "        \n",
    "    else:\n",
    "        \n",
    "        d[c] = 1\n",
    "        \n",
    "print(\"Frequency of each character:\",d)"
   ]
  },
  {
   "cell_type": "code",
   "execution_count": 10,
   "id": "73660dfb",
   "metadata": {},
   "outputs": [
    {
     "name": "stdout",
     "output_type": "stream",
     "text": [
      "Enter the string: FLIP ROBO\n",
      "Frequency of each character: {'F': 1, 'L': 1, 'I': 1, 'P': 1, ' ': 1, 'R': 1, 'O': 2, 'B': 1}\n"
     ]
    }
   ],
   "source": [
    "str1 = input (\"Enter the string: \")\n",
    "\n",
    "d = dict()\n",
    "\n",
    "for c in str1:\n",
    "    \n",
    "    d[c] = d.get(c, 0) + 1\n",
    "    \n",
    "print(\"Frequency of each character:\",d)"
   ]
  }
 ],
 "metadata": {
  "kernelspec": {
   "display_name": "Python 3 (ipykernel)",
   "language": "python",
   "name": "python3"
  },
  "language_info": {
   "codemirror_mode": {
    "name": "ipython",
    "version": 3
   },
   "file_extension": ".py",
   "mimetype": "text/x-python",
   "name": "python",
   "nbconvert_exporter": "python",
   "pygments_lexer": "ipython3",
   "version": "3.9.7"
  }
 },
 "nbformat": 4,
 "nbformat_minor": 5
}
